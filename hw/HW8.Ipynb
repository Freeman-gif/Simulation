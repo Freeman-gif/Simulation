{
 "cells": [
  {
   "cell_type": "code",
   "execution_count": 1,
   "metadata": {},
   "outputs": [],
   "source": [
    "import numpy as np\n",
    "from numpy.random import random\n",
    "from scipy import interpolate\n",
    "import matplotlib.pyplot as plt\n",
    "import scipy.interpolate as sp_interp\n",
    "import cProfile\n",
    "from scipy import optimize\n",
    "from scipy.stats import sem\n",
    "import seaborn as sns\n",
    "import pandas as pd"
   ]
  },
  {
   "cell_type": "code",
   "execution_count": null,
   "metadata": {},
   "outputs": [],
   "source": [
    "# limits of integration\n",
    "a = 1\n",
    "b = 0 \n",
    "N = 1000 ##run 1000 times\n"
   ]
  },
  {
   "cell_type": "code",
   "execution_count": null,
   "metadata": {},
   "outputs": [],
   "source": []
  }
 ],
 "metadata": {
  "kernelspec": {
   "display_name": "Python 3.8.13 ('freemanenv')",
   "language": "python",
   "name": "python3"
  },
  "language_info": {
   "codemirror_mode": {
    "name": "ipython",
    "version": 3
   },
   "file_extension": ".py",
   "mimetype": "text/x-python",
   "name": "python",
   "nbconvert_exporter": "python",
   "pygments_lexer": "ipython3",
   "version": "3.8.13"
  },
  "orig_nbformat": 4,
  "vscode": {
   "interpreter": {
    "hash": "61eb6a73d09714297e0aec2d959d867e6ecbc9c20629b0c1822899d68cd57698"
   }
  }
 },
 "nbformat": 4,
 "nbformat_minor": 2
}
