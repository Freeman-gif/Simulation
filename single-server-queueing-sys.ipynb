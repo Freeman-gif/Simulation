{
 "cells": [
  {
   "cell_type": "code",
   "execution_count": 37,
   "metadata": {},
   "outputs": [],
   "source": [
    "import numpy as np\n",
    "import random as rd\n",
    "from numpy.random import random\n",
    "from scipy import interpolate\n",
    "import matplotlib.pyplot as plt\n",
    "import scipy.interpolate as sp_interp\n",
    "import cProfile\n",
    "from scipy import optimize"
   ]
  },
  {
   "cell_type": "code",
   "execution_count": 114,
   "metadata": {},
   "outputs": [],
   "source": [
    "class simulation:\n",
    "    \n",
    "        def __init__(self):\n",
    "            self.num_in_system = 0\n",
    "            self.num_arrivals = 0\n",
    "            self.t_arrival = np.random.poisson(1./10)\n",
    "            self.num_in_syustem = 0\n",
    "            self.clock =7.00\n",
    "            self.t_depart = float('inf')\n",
    "            self.total_wait = 0.0\n",
    "            self.num_depart = 0\n",
    "            self.service_time = self.accept_reject\n",
    "\n",
    "        \n",
    "        def advance_time(self):\n",
    "            t_event = min (self.t_arrival, self.t_depart)\n",
    "            self.total_wait += self.num_in_system*(t_event - self.clock)\n",
    "            self.clock = t_event\n",
    "            \n",
    "            if self.t_arrival <= self.t_depart:\n",
    "                self.handle_depart_event()\n",
    "            else:\n",
    "                self.handle_depart_event()\n",
    "        def handle_arrival_event(self):\n",
    "            self.num_in_system += 1\n",
    "            self.num_arrivals += 1\n",
    "            if self.num_in_system <= 1:\n",
    "                self.t_depart = self.clock +  self.service_time\n",
    "                self.t_arrival = self.clock +  self.service_time\n",
    "            \n",
    "        def handle_depart_event(self):\n",
    "            self.num_in_system -= 1\n",
    "            self.num_depart += 1\n",
    "            if self.num_in_system > 0:\n",
    "                self.t_depart = self.clock +  self.service_time\n",
    "            else:\n",
    "                self.t_depart=float('inf')\n",
    "            \n",
    "            \n",
    "            \n",
    "            \n",
    "        def generate_arrival(self):\n",
    "            return np.random.poisson(1./10)\n",
    "\n",
    "\n",
    "            \n",
    "        def accept_reject(self):\n",
    "\n",
    "            xmin = 0\n",
    "            xmax = 10.826823\n",
    "#5\n",
    "            pmax = 0.857764\n",
    "\n",
    "            n_accept=0\n",
    "            x_list = [] \n",
    "            while n_accept < 1000:\n",
    "                x = (xmax-xmin)*np.random.rand() + xmin\n",
    "                y = np.random.rand()\n",
    "                if y < ((40  *x) * (40  *x) * 20 * np.exp(-40 * x))/ pmax:\n",
    "                    n_accept += 1\n",
    "                    x_list.append(x)\n",
    "            return rd.choice(x_list)\n",
    "\n"
   ]
  },
  {
   "cell_type": "code",
   "execution_count": 116,
   "metadata": {},
   "outputs": [
    {
     "ename": "TypeError",
     "evalue": "advance_time() missing 1 required positional argument: 'self'",
     "output_type": "error",
     "traceback": [
      "\u001b[1;31m---------------------------------------------------------------------------\u001b[0m",
      "\u001b[1;31mTypeError\u001b[0m                                 Traceback (most recent call last)",
      "Cell \u001b[1;32mIn [116], line 4\u001b[0m\n\u001b[0;32m      1\u001b[0m np\u001b[39m.\u001b[39mrandom\u001b[39m.\u001b[39mseed(\u001b[39m0\u001b[39m)\n\u001b[0;32m      3\u001b[0m s \u001b[39m=\u001b[39m simulation\n\u001b[1;32m----> 4\u001b[0m s\u001b[39m.\u001b[39madvance_time()\n",
      "\u001b[1;31mTypeError\u001b[0m: advance_time() missing 1 required positional argument: 'self'"
     ]
    }
   ],
   "source": [
    "np.random.seed(0)\n",
    "\n",
    "s = simulation\n",
    "s.advance_time()\n"
   ]
  },
  {
   "cell_type": "code",
   "execution_count": 100,
   "metadata": {},
   "outputs": [
    {
     "data": {
      "text/plain": [
       "0"
      ]
     },
     "execution_count": 100,
     "metadata": {},
     "output_type": "execute_result"
    }
   ],
   "source": [
    "np.random.poisson(1./10)"
   ]
  }
 ],
 "metadata": {
  "kernelspec": {
   "display_name": "Python 3.8.13 ('freemanenv')",
   "language": "python",
   "name": "python3"
  },
  "language_info": {
   "codemirror_mode": {
    "name": "ipython",
    "version": 3
   },
   "file_extension": ".py",
   "mimetype": "text/x-python",
   "name": "python",
   "nbconvert_exporter": "python",
   "pygments_lexer": "ipython3",
   "version": "3.8.13"
  },
  "orig_nbformat": 4,
  "vscode": {
   "interpreter": {
    "hash": "61eb6a73d09714297e0aec2d959d867e6ecbc9c20629b0c1822899d68cd57698"
   }
  }
 },
 "nbformat": 4,
 "nbformat_minor": 2
}
