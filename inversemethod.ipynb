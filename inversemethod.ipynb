{
 "cells": [
  {
   "cell_type": "code",
   "execution_count": 15,
   "metadata": {},
   "outputs": [],
   "source": [
    "import numpy as np\n",
    "from numpy.random import random\n",
    "from scipy import interpolate\n",
    "import matplotlib.pyplot as plt\n",
    "import scipy.interpolate as sp_interp\n",
    "import cProfile"
   ]
  },
  {
   "cell_type": "code",
   "execution_count": 20,
   "metadata": {},
   "outputs": [],
   "source": [
    "def f(x):\n",
    "    # does not need to be normalized\n",
    "    return np.exp(-x**2) * np.cos(3*x)**2 * (x-1)**4/np.cosh(1*x)"
   ]
  },
  {
   "cell_type": "code",
   "execution_count": 25,
   "metadata": {},
   "outputs": [
    {
     "name": "stderr",
     "output_type": "stream",
     "text": [
      "C:\\Users\\Freem\\AppData\\Local\\Temp\\ipykernel_27788\\3522357252.py:3: RuntimeWarning: overflow encountered in cosh\n",
      "  return np.exp(-x**2) * np.cos(3*x)**2 * (x-1)**4/np.cosh(1*x)\n"
     ]
    },
    {
     "ename": "ValueError",
     "evalue": "A value in x_new is below the interpolation range.",
     "output_type": "error",
     "traceback": [
      "\u001b[1;31m---------------------------------------------------------------------------\u001b[0m",
      "\u001b[1;31mValueError\u001b[0m                                Traceback (most recent call last)",
      "Cell \u001b[1;32mIn [25], line 13\u001b[0m\n\u001b[0;32m     10\u001b[0m s \u001b[38;5;241m=\u001b[39m np\u001b[38;5;241m.\u001b[39mrandom\u001b[38;5;241m.\u001b[39muniform(\u001b[38;5;241m0\u001b[39m,\u001b[38;5;241m1\u001b[39m,\u001b[38;5;241m1000\u001b[39m)\n\u001b[0;32m     12\u001b[0m \u001b[38;5;66;03m#cProfile.run('print(f1(s))') ##my computer is too fast, so there's no comparison \u001b[39;00m\n\u001b[1;32m---> 13\u001b[0m \u001b[38;5;28mprint\u001b[39m(f1(s))\n",
      "File \u001b[1;32mc:\\Users\\Freem\\miniconda3\\envs\\freemanenv\\lib\\site-packages\\scipy\\interpolate\\_polyint.py:78\u001b[0m, in \u001b[0;36m_Interpolator1D.__call__\u001b[1;34m(self, x)\u001b[0m\n\u001b[0;32m     57\u001b[0m \u001b[39m\"\"\"\u001b[39;00m\n\u001b[0;32m     58\u001b[0m \u001b[39mEvaluate the interpolant\u001b[39;00m\n\u001b[0;32m     59\u001b[0m \n\u001b[1;32m   (...)\u001b[0m\n\u001b[0;32m     75\u001b[0m \n\u001b[0;32m     76\u001b[0m \u001b[39m\"\"\"\u001b[39;00m\n\u001b[0;32m     77\u001b[0m x, x_shape \u001b[39m=\u001b[39m \u001b[39mself\u001b[39m\u001b[39m.\u001b[39m_prepare_x(x)\n\u001b[1;32m---> 78\u001b[0m y \u001b[39m=\u001b[39m \u001b[39mself\u001b[39;49m\u001b[39m.\u001b[39;49m_evaluate(x)\n\u001b[0;32m     79\u001b[0m \u001b[39mreturn\u001b[39;00m \u001b[39mself\u001b[39m\u001b[39m.\u001b[39m_finish_y(y, x_shape)\n",
      "File \u001b[1;32mc:\\Users\\Freem\\miniconda3\\envs\\freemanenv\\lib\\site-packages\\scipy\\interpolate\\_interpolate.py:707\u001b[0m, in \u001b[0;36minterp1d._evaluate\u001b[1;34m(self, x_new)\u001b[0m\n\u001b[0;32m    705\u001b[0m y_new \u001b[39m=\u001b[39m \u001b[39mself\u001b[39m\u001b[39m.\u001b[39m_call(\u001b[39mself\u001b[39m, x_new)\n\u001b[0;32m    706\u001b[0m \u001b[39mif\u001b[39;00m \u001b[39mnot\u001b[39;00m \u001b[39mself\u001b[39m\u001b[39m.\u001b[39m_extrapolate:\n\u001b[1;32m--> 707\u001b[0m     below_bounds, above_bounds \u001b[39m=\u001b[39m \u001b[39mself\u001b[39;49m\u001b[39m.\u001b[39;49m_check_bounds(x_new)\n\u001b[0;32m    708\u001b[0m     \u001b[39mif\u001b[39;00m \u001b[39mlen\u001b[39m(y_new) \u001b[39m>\u001b[39m \u001b[39m0\u001b[39m:\n\u001b[0;32m    709\u001b[0m         \u001b[39m# Note fill_value must be broadcast up to the proper size\u001b[39;00m\n\u001b[0;32m    710\u001b[0m         \u001b[39m# and flattened to work here\u001b[39;00m\n\u001b[0;32m    711\u001b[0m         y_new[below_bounds] \u001b[39m=\u001b[39m \u001b[39mself\u001b[39m\u001b[39m.\u001b[39m_fill_value_below\n",
      "File \u001b[1;32mc:\\Users\\Freem\\miniconda3\\envs\\freemanenv\\lib\\site-packages\\scipy\\interpolate\\_interpolate.py:736\u001b[0m, in \u001b[0;36minterp1d._check_bounds\u001b[1;34m(self, x_new)\u001b[0m\n\u001b[0;32m    734\u001b[0m \u001b[39m# !! Could provide more information about which values are out of bounds\u001b[39;00m\n\u001b[0;32m    735\u001b[0m \u001b[39mif\u001b[39;00m \u001b[39mself\u001b[39m\u001b[39m.\u001b[39mbounds_error \u001b[39mand\u001b[39;00m below_bounds\u001b[39m.\u001b[39many():\n\u001b[1;32m--> 736\u001b[0m     \u001b[39mraise\u001b[39;00m \u001b[39mValueError\u001b[39;00m(\u001b[39m\"\u001b[39m\u001b[39mA value in x_new is below the interpolation \u001b[39m\u001b[39m\"\u001b[39m\n\u001b[0;32m    737\u001b[0m                      \u001b[39m\"\u001b[39m\u001b[39mrange.\u001b[39m\u001b[39m\"\u001b[39m)\n\u001b[0;32m    738\u001b[0m \u001b[39mif\u001b[39;00m \u001b[39mself\u001b[39m\u001b[39m.\u001b[39mbounds_error \u001b[39mand\u001b[39;00m above_bounds\u001b[39m.\u001b[39many():\n\u001b[0;32m    739\u001b[0m     \u001b[39mraise\u001b[39;00m \u001b[39mValueError\u001b[39;00m(\u001b[39m\"\u001b[39m\u001b[39mA value in x_new is above the interpolation \u001b[39m\u001b[39m\"\u001b[39m\n\u001b[0;32m    740\u001b[0m                      \u001b[39m\"\u001b[39m\u001b[39mrange.\u001b[39m\u001b[39m\"\u001b[39m)\n",
      "\u001b[1;31mValueError\u001b[0m: A value in x_new is below the interpolation range."
     ]
    }
   ],
   "source": [
    "def sample(g):\n",
    "    x = np.linspace(0,5,1e5)\n",
    "    y = g(x)                        # probability density function, pdf\n",
    "    cdf_y = np.cumsum(y)            # cumulative distribution function, cdf\n",
    "    cdf_y = cdf_y/cdf_y.max()       # takes care of normalizing cdf to 1.0\n",
    "    inverse_cdf = interpolate.interp1d(cdf_y,x)    # this is a function\n",
    "    return inverse_cdf"
   ]
  },
  {
   "cell_type": "code",
   "execution_count": 5,
   "metadata": {},
   "outputs": [],
   "source": [
    "def return_samples(N=1e6):\n",
    "    # let's generate some samples according to the chosen pdf, f(x)\n",
    "    uniform_samples = random(int(N))\n",
    "    required_samples = sample(f)(uniform_samples)\n",
    "    return required_samples"
   ]
  },
  {
   "cell_type": "code",
   "execution_count": 6,
   "metadata": {},
   "outputs": [
    {
     "name": "stdout",
     "output_type": "stream",
     "text": [
      "         11 function calls in 0.005 seconds\n",
      "\n",
      "   Ordered by: standard name\n",
      "\n",
      "   ncalls  tottime  percall  cumtime  percall filename:lineno(function)\n",
      "        1    0.000    0.000    0.000    0.000 1083589083.py:1(sample)\n",
      "        1    0.000    0.000    0.005    0.005 623478154.py:1(return_samples)\n",
      "        1    0.000    0.000    0.000    0.000 <__array_function__ internals>:177(linspace)\n",
      "        1    0.000    0.000    0.005    0.005 <string>:1(<module>)\n",
      "        1    0.000    0.000    0.000    0.000 function_base.py:18(_linspace_dispatcher)\n",
      "        1    0.000    0.000    0.000    0.000 function_base.py:23(linspace)\n",
      "        1    0.000    0.000    0.000    0.000 {built-in method _operator.index}\n",
      "        1    0.000    0.000    0.005    0.005 {built-in method builtins.exec}\n",
      "        1    0.000    0.000    0.000    0.000 {built-in method numpy.core._multiarray_umath.implement_array_function}\n",
      "        1    0.000    0.000    0.000    0.000 {method 'disable' of '_lsprof.Profiler' objects}\n",
      "        1    0.005    0.005    0.005    0.005 {method 'random' of 'numpy.random.mtrand.RandomState' objects}\n",
      "\n",
      "\n"
     ]
    },
    {
     "ename": "TypeError",
     "evalue": "'float' object cannot be interpreted as an integer",
     "output_type": "error",
     "traceback": [
      "\u001b[1;31m---------------------------------------------------------------------------\u001b[0m",
      "\u001b[1;31mTypeError\u001b[0m                                 Traceback (most recent call last)",
      "Cell \u001b[1;32mIn [6], line 1\u001b[0m\n\u001b[1;32m----> 1\u001b[0m cProfile\u001b[38;5;241m.\u001b[39mrun(\u001b[38;5;124m'\u001b[39m\u001b[38;5;124mreturn_samples()\u001b[39m\u001b[38;5;124m'\u001b[39m)\n",
      "File \u001b[1;32mc:\\Users\\Freem\\miniconda3\\envs\\freemanenv\\lib\\cProfile.py:16\u001b[0m, in \u001b[0;36mrun\u001b[1;34m(statement, filename, sort)\u001b[0m\n\u001b[0;32m     15\u001b[0m \u001b[39mdef\u001b[39;00m \u001b[39mrun\u001b[39m(statement, filename\u001b[39m=\u001b[39m\u001b[39mNone\u001b[39;00m, sort\u001b[39m=\u001b[39m\u001b[39m-\u001b[39m\u001b[39m1\u001b[39m):\n\u001b[1;32m---> 16\u001b[0m     \u001b[39mreturn\u001b[39;00m _pyprofile\u001b[39m.\u001b[39;49m_Utils(Profile)\u001b[39m.\u001b[39;49mrun(statement, filename, sort)\n",
      "File \u001b[1;32mc:\\Users\\Freem\\miniconda3\\envs\\freemanenv\\lib\\profile.py:53\u001b[0m, in \u001b[0;36m_Utils.run\u001b[1;34m(self, statement, filename, sort)\u001b[0m\n\u001b[0;32m     51\u001b[0m prof \u001b[39m=\u001b[39m \u001b[39mself\u001b[39m\u001b[39m.\u001b[39mprofiler()\n\u001b[0;32m     52\u001b[0m \u001b[39mtry\u001b[39;00m:\n\u001b[1;32m---> 53\u001b[0m     prof\u001b[39m.\u001b[39;49mrun(statement)\n\u001b[0;32m     54\u001b[0m \u001b[39mexcept\u001b[39;00m \u001b[39mSystemExit\u001b[39;00m:\n\u001b[0;32m     55\u001b[0m     \u001b[39mpass\u001b[39;00m\n",
      "File \u001b[1;32mc:\\Users\\Freem\\miniconda3\\envs\\freemanenv\\lib\\cProfile.py:95\u001b[0m, in \u001b[0;36mProfile.run\u001b[1;34m(self, cmd)\u001b[0m\n\u001b[0;32m     93\u001b[0m \u001b[39mimport\u001b[39;00m \u001b[39m__main__\u001b[39;00m\n\u001b[0;32m     94\u001b[0m \u001b[39mdict\u001b[39m \u001b[39m=\u001b[39m __main__\u001b[39m.\u001b[39m\u001b[39m__dict__\u001b[39m\n\u001b[1;32m---> 95\u001b[0m \u001b[39mreturn\u001b[39;00m \u001b[39mself\u001b[39;49m\u001b[39m.\u001b[39;49mrunctx(cmd, \u001b[39mdict\u001b[39;49m, \u001b[39mdict\u001b[39;49m)\n",
      "File \u001b[1;32mc:\\Users\\Freem\\miniconda3\\envs\\freemanenv\\lib\\cProfile.py:100\u001b[0m, in \u001b[0;36mProfile.runctx\u001b[1;34m(self, cmd, globals, locals)\u001b[0m\n\u001b[0;32m     98\u001b[0m \u001b[39mself\u001b[39m\u001b[39m.\u001b[39menable()\n\u001b[0;32m     99\u001b[0m \u001b[39mtry\u001b[39;00m:\n\u001b[1;32m--> 100\u001b[0m     exec(cmd, \u001b[39mglobals\u001b[39;49m, \u001b[39mlocals\u001b[39;49m)\n\u001b[0;32m    101\u001b[0m \u001b[39mfinally\u001b[39;00m:\n\u001b[0;32m    102\u001b[0m     \u001b[39mself\u001b[39m\u001b[39m.\u001b[39mdisable()\n",
      "File \u001b[1;32m<string>:1\u001b[0m\n",
      "Cell \u001b[1;32mIn [5], line 4\u001b[0m, in \u001b[0;36mreturn_samples\u001b[1;34m(N)\u001b[0m\n\u001b[0;32m      1\u001b[0m \u001b[38;5;28;01mdef\u001b[39;00m \u001b[38;5;21mreturn_samples\u001b[39m(N\u001b[38;5;241m=\u001b[39m\u001b[38;5;241m1e6\u001b[39m):\n\u001b[0;32m      2\u001b[0m     \u001b[38;5;66;03m# let's generate some samples according to the chosen pdf, f(x)\u001b[39;00m\n\u001b[0;32m      3\u001b[0m     uniform_samples \u001b[38;5;241m=\u001b[39m random(\u001b[38;5;28mint\u001b[39m(N))\n\u001b[1;32m----> 4\u001b[0m     required_samples \u001b[38;5;241m=\u001b[39m \u001b[43msample\u001b[49m\u001b[43m(\u001b[49m\u001b[43mf\u001b[49m\u001b[43m)\u001b[49m(uniform_samples)\n\u001b[0;32m      5\u001b[0m     \u001b[38;5;28;01mreturn\u001b[39;00m required_samples\n",
      "Cell \u001b[1;32mIn [4], line 2\u001b[0m, in \u001b[0;36msample\u001b[1;34m(g)\u001b[0m\n\u001b[0;32m      1\u001b[0m \u001b[38;5;28;01mdef\u001b[39;00m \u001b[38;5;21msample\u001b[39m(g):\n\u001b[1;32m----> 2\u001b[0m     x \u001b[38;5;241m=\u001b[39m \u001b[43mnp\u001b[49m\u001b[38;5;241;43m.\u001b[39;49m\u001b[43mlinspace\u001b[49m\u001b[43m(\u001b[49m\u001b[38;5;241;43m0\u001b[39;49m\u001b[43m,\u001b[49m\u001b[38;5;241;43m5\u001b[39;49m\u001b[43m,\u001b[49m\u001b[38;5;241;43m1e5\u001b[39;49m\u001b[43m)\u001b[49m\n\u001b[0;32m      3\u001b[0m     y \u001b[38;5;241m=\u001b[39m g(x)                        \u001b[38;5;66;03m# probability density function, pdf\u001b[39;00m\n\u001b[0;32m      4\u001b[0m     cdf_y \u001b[38;5;241m=\u001b[39m np\u001b[38;5;241m.\u001b[39mcumsum(y)            \u001b[38;5;66;03m# cumulative distribution function, cdf\u001b[39;00m\n",
      "File \u001b[1;32m<__array_function__ internals>:180\u001b[0m, in \u001b[0;36mlinspace\u001b[1;34m(*args, **kwargs)\u001b[0m\n",
      "File \u001b[1;32mc:\\Users\\Freem\\miniconda3\\envs\\freemanenv\\lib\\site-packages\\numpy\\core\\function_base.py:120\u001b[0m, in \u001b[0;36mlinspace\u001b[1;34m(start, stop, num, endpoint, retstep, dtype, axis)\u001b[0m\n\u001b[0;32m     23\u001b[0m \u001b[39m@array_function_dispatch\u001b[39m(_linspace_dispatcher)\n\u001b[0;32m     24\u001b[0m \u001b[39mdef\u001b[39;00m \u001b[39mlinspace\u001b[39m(start, stop, num\u001b[39m=\u001b[39m\u001b[39m50\u001b[39m, endpoint\u001b[39m=\u001b[39m\u001b[39mTrue\u001b[39;00m, retstep\u001b[39m=\u001b[39m\u001b[39mFalse\u001b[39;00m, dtype\u001b[39m=\u001b[39m\u001b[39mNone\u001b[39;00m,\n\u001b[0;32m     25\u001b[0m              axis\u001b[39m=\u001b[39m\u001b[39m0\u001b[39m):\n\u001b[0;32m     26\u001b[0m     \u001b[39m\"\"\"\u001b[39;00m\n\u001b[0;32m     27\u001b[0m \u001b[39m    Return evenly spaced numbers over a specified interval.\u001b[39;00m\n\u001b[0;32m     28\u001b[0m \n\u001b[1;32m   (...)\u001b[0m\n\u001b[0;32m    118\u001b[0m \n\u001b[0;32m    119\u001b[0m \u001b[39m    \"\"\"\u001b[39;00m\n\u001b[1;32m--> 120\u001b[0m     num \u001b[39m=\u001b[39m operator\u001b[39m.\u001b[39;49mindex(num)\n\u001b[0;32m    121\u001b[0m     \u001b[39mif\u001b[39;00m num \u001b[39m<\u001b[39m \u001b[39m0\u001b[39m:\n\u001b[0;32m    122\u001b[0m         \u001b[39mraise\u001b[39;00m \u001b[39mValueError\u001b[39;00m(\u001b[39m\"\u001b[39m\u001b[39mNumber of samples, \u001b[39m\u001b[39m%s\u001b[39;00m\u001b[39m, must be non-negative.\u001b[39m\u001b[39m\"\u001b[39m \u001b[39m%\u001b[39m num)\n",
      "\u001b[1;31mTypeError\u001b[0m: 'float' object cannot be interpreted as an integer"
     ]
    }
   ],
   "source": [
    "cProfile.run('return_samples()')"
   ]
  },
  {
   "cell_type": "code",
   "execution_count": 7,
   "metadata": {},
   "outputs": [
    {
     "ename": "TypeError",
     "evalue": "'float' object cannot be interpreted as an integer",
     "output_type": "error",
     "traceback": [
      "\u001b[1;31m---------------------------------------------------------------------------\u001b[0m",
      "\u001b[1;31mTypeError\u001b[0m                                 Traceback (most recent call last)",
      "Cell \u001b[1;32mIn [7], line 1\u001b[0m\n\u001b[1;32m----> 1\u001b[0m x \u001b[38;5;241m=\u001b[39m np\u001b[38;5;241m.\u001b[39mlinspace(\u001b[38;5;241m-\u001b[39m\u001b[38;5;241m3\u001b[39m,\u001b[38;5;241m3\u001b[39m,\u001b[38;5;241m1e4\u001b[39m)\n\u001b[0;32m      2\u001b[0m fig,ax \u001b[38;5;241m=\u001b[39m plt\u001b[38;5;241m.\u001b[39msubplots()\n\u001b[0;32m      3\u001b[0m ax\u001b[38;5;241m.\u001b[39mset_xlabel(\u001b[38;5;124m'\u001b[39m\u001b[38;5;124mx\u001b[39m\u001b[38;5;124m'\u001b[39m)\n",
      "File \u001b[1;32m<__array_function__ internals>:180\u001b[0m, in \u001b[0;36mlinspace\u001b[1;34m(*args, **kwargs)\u001b[0m\n",
      "File \u001b[1;32mc:\\Users\\Freem\\miniconda3\\envs\\freemanenv\\lib\\site-packages\\numpy\\core\\function_base.py:120\u001b[0m, in \u001b[0;36mlinspace\u001b[1;34m(start, stop, num, endpoint, retstep, dtype, axis)\u001b[0m\n\u001b[0;32m     23\u001b[0m \u001b[39m@array_function_dispatch\u001b[39m(_linspace_dispatcher)\n\u001b[0;32m     24\u001b[0m \u001b[39mdef\u001b[39;00m \u001b[39mlinspace\u001b[39m(start, stop, num\u001b[39m=\u001b[39m\u001b[39m50\u001b[39m, endpoint\u001b[39m=\u001b[39m\u001b[39mTrue\u001b[39;00m, retstep\u001b[39m=\u001b[39m\u001b[39mFalse\u001b[39;00m, dtype\u001b[39m=\u001b[39m\u001b[39mNone\u001b[39;00m,\n\u001b[0;32m     25\u001b[0m              axis\u001b[39m=\u001b[39m\u001b[39m0\u001b[39m):\n\u001b[0;32m     26\u001b[0m     \u001b[39m\"\"\"\u001b[39;00m\n\u001b[0;32m     27\u001b[0m \u001b[39m    Return evenly spaced numbers over a specified interval.\u001b[39;00m\n\u001b[0;32m     28\u001b[0m \n\u001b[1;32m   (...)\u001b[0m\n\u001b[0;32m    118\u001b[0m \n\u001b[0;32m    119\u001b[0m \u001b[39m    \"\"\"\u001b[39;00m\n\u001b[1;32m--> 120\u001b[0m     num \u001b[39m=\u001b[39m operator\u001b[39m.\u001b[39;49mindex(num)\n\u001b[0;32m    121\u001b[0m     \u001b[39mif\u001b[39;00m num \u001b[39m<\u001b[39m \u001b[39m0\u001b[39m:\n\u001b[0;32m    122\u001b[0m         \u001b[39mraise\u001b[39;00m \u001b[39mValueError\u001b[39;00m(\u001b[39m\"\u001b[39m\u001b[39mNumber of samples, \u001b[39m\u001b[39m%s\u001b[39;00m\u001b[39m, must be non-negative.\u001b[39m\u001b[39m\"\u001b[39m \u001b[39m%\u001b[39m num)\n",
      "\u001b[1;31mTypeError\u001b[0m: 'float' object cannot be interpreted as an integer"
     ]
    }
   ],
   "source": [
    "x = np.linspace(-3,3,1e4)\n",
    "fig,ax = plt.subplots()\n",
    "ax.set_xlabel('x')\n",
    "ax.set_ylabel('probability density')\n",
    "ax.plot(x,f(x)/np.sum(f(x)*(x[1]-x[0])) )\n",
    "ax.hist(return_samples(1e6),bins='auto',normed=True,range=(x.min(),x.max()))\n",
    "plt.show() "
   ]
  }
 ],
 "metadata": {
  "kernelspec": {
   "display_name": "Python 3.8.13 ('freemanenv')",
   "language": "python",
   "name": "python3"
  },
  "language_info": {
   "codemirror_mode": {
    "name": "ipython",
    "version": 3
   },
   "file_extension": ".py",
   "mimetype": "text/x-python",
   "name": "python",
   "nbconvert_exporter": "python",
   "pygments_lexer": "ipython3",
   "version": "3.8.13"
  },
  "orig_nbformat": 4,
  "vscode": {
   "interpreter": {
    "hash": "61eb6a73d09714297e0aec2d959d867e6ecbc9c20629b0c1822899d68cd57698"
   }
  }
 },
 "nbformat": 4,
 "nbformat_minor": 2
}
