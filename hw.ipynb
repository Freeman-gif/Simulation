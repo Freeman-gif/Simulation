{
 "cells": [
  {
   "cell_type": "code",
   "execution_count": null,
   "metadata": {},
   "outputs": [],
   "source": []
  }
 ],
 "metadata": {
  "kernelspec": {
   "display_name": "Python 3.8.13 ('freemanenv')",
   "language": "python",
   "name": "python3"
  },
  "language_info": {
   "name": "python",
   "version": "3.8.13"
  },
  "orig_nbformat": 4,
  "vscode": {
   "interpreter": {
    "hash": "61eb6a73d09714297e0aec2d959d867e6ecbc9c20629b0c1822899d68cd57698"
   }
  }
 },
 "nbformat": 4,
 "nbformat_minor": 2
}
