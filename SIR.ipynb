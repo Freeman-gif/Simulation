{
 "cells": [
  {
   "cell_type": "code",
   "execution_count": 2,
   "metadata": {},
   "outputs": [],
   "source": [
    "%matplotlib inline\n",
    "import matplotlib.pyplot as plt\n",
    "plt.rcParams[\"figure.figsize\"] = (11, 5)  #set default figure size\n",
    "import numpy as np\n",
    "from numpy import exp\n",
    "import random\n",
    "from scipy.integrate import odeint\n",
    "from scipy import integrate"
   ]
  },
  {
   "cell_type": "code",
   "execution_count": 10,
   "metadata": {},
   "outputs": [],
   "source": [
    "\n",
    "# the time at which the simulation ends\n",
    "k1 = 2\n",
    "k2 = 0.05\n",
    "k3 = 0.05\n",
    "k4 = 1.5 \n"
   ]
  },
  {
   "cell_type": "code",
   "execution_count": 8,
   "metadata": {},
   "outputs": [],
   "source": [
    "t = np.linspace(0,50,num=1000)"
   ]
  },
  {
   "cell_type": "markdown",
   "metadata": {},
   "source": [
    "y0 = [100.20] \n"
   ]
  },
  {
   "cell_type": "code",
   "execution_count": 11,
   "metadata": {},
   "outputs": [],
   "source": [
    "y0 = [100.20] \n",
    "params = [k1,k2,k3,k4]"
   ]
  },
  {
   "cell_type": "code",
   "execution_count": 5,
   "metadata": {},
   "outputs": [],
   "source": [
    "\n",
    "def sim(variables , t, params):\n",
    "    # inistal rabbit population level\n",
    "    x = variables[0]\n",
    "    \n",
    "    y = variables[1]\n",
    "    \n",
    "    k1 = params[0]\n",
    "    k2 =params[1]\n",
    "    k3 = params[2]\n",
    "    k4 = params[3]\n",
    "    \n",
    "    f1 = k1*x -k2*x*y\n",
    "    f2 = k3*x*y - k4*y\n",
    "    \n",
    "    return([f1, f2])\n",
    "\n",
    "y = odeint(sim,y0,t, args=(params,))\n",
    "\n",
    "\n",
    "f,(ax1,ax2) = plt.subplot(2)    \n",
    "line1, = ax1.plot(t,y[:,0], color =\"b\")\n",
    "\n",
    "line2, = ax2.plot(t,y[:,1], color='r')\n",
    "\n",
    "ax1.set_\n",
    "    \n",
    "    "
   ]
  },
  {
   "cell_type": "code",
   "execution_count": 6,
   "metadata": {},
   "outputs": [],
   "source": [
    "class SIR:\n",
    "    def __init__(self, N=1000, S=950, I=50, R=0, k1=0.05, k2=0.01):\n",
    "        self.N = N\n",
    "        self.S= S\n",
    "        self.I = I\n",
    "        self.k1 = k1\n",
    "        self.k2 = k2\n",
    "        self.results = None\n",
    "        self.modelRun = False\n",
    "\n",
    "    def run(self):\n",
    "        S = [elf.S]\n",
    "        I = [Self.I]\n",
    "        Resistant = [self.Resistant]\n",
    "\n",
    "        for step in range(1, self.eons):\n",
    "            S_to_I = (self.rateSI * Susceptible[-1] * Infected[-1]) / self.numIndividuals\n",
    "            I_to_R = Infected[-1] * self.rateIR\n",
    "            Susceptible.append(Susceptible[-1] - S_to_I)\n",
    "            Infected.append(Infected[-1] + S_to_I - I_to_R)\n",
    "            Resistant.append(Resistant[-1] + I_to_R)\n",
    "\n",
    "        self.results = pd.DataFrame.from_dict({'Time':list(range(len(Susceptible))),\n",
    "            'Susceptible':Susceptible, 'Infected':Infected, 'Resistant':Resistant},\n",
    "            orient='index').transpose()\n",
    "        self.modelRun = True"
   ]
  },
  {
   "cell_type": "code",
   "execution_count": 1,
   "metadata": {},
   "outputs": [
    {
     "ename": "NameError",
     "evalue": "name 'plt' is not defined",
     "output_type": "error",
     "traceback": [
      "\u001b[1;31m---------------------------------------------------------------------------\u001b[0m",
      "\u001b[1;31mNameError\u001b[0m                                 Traceback (most recent call last)",
      "\u001b[1;32mc:\\Users\\Freem\\Desktop\\simulation\\SIR.ipynb Cell 8\u001b[0m in \u001b[0;36m<cell line: 1>\u001b[1;34m()\u001b[0m\n\u001b[1;32m----> <a href='vscode-notebook-cell:/c%3A/Users/Freem/Desktop/simulation/SIR.ipynb#X10sZmlsZQ%3D%3D?line=0'>1</a>\u001b[0m plt\u001b[39m.\u001b[39mfigure()\n\u001b[0;32m      <a href='vscode-notebook-cell:/c%3A/Users/Freem/Desktop/simulation/SIR.ipynb#X10sZmlsZQ%3D%3D?line=1'>2</a>\u001b[0m plt\u001b[39m.\u001b[39mgrid()\n\u001b[0;32m      <a href='vscode-notebook-cell:/c%3A/Users/Freem/Desktop/simulation/SIR.ipynb#X10sZmlsZQ%3D%3D?line=2'>3</a>\u001b[0m plt\u001b[39m.\u001b[39mtitle(\u001b[39m\"\u001b[39m\u001b[39modeint method\u001b[39m\u001b[39m\"\u001b[39m)\n",
      "\u001b[1;31mNameError\u001b[0m: name 'plt' is not defined"
     ]
    }
   ],
   "source": [
    "plt.figure()\n",
    "plt.grid()\n",
    "plt.title(\"odeint method\")\n",
    "plt.plot(t, x, 'xb', label = 'rabbit')\n",
    "plt.plot(t, y, '+r', label = \"fox\")\n",
    "plt.xlabel('Time t, [days]')\n",
    "plt.ylabel('Population')\n",
    "plt.legend()\n",
    "\n",
    "plt.show()"
   ]
  }
 ],
 "metadata": {
  "kernelspec": {
   "display_name": "Python 3.8.13 ('freemanenv')",
   "language": "python",
   "name": "python3"
  },
  "language_info": {
   "codemirror_mode": {
    "name": "ipython",
    "version": 3
   },
   "file_extension": ".py",
   "mimetype": "text/x-python",
   "name": "python",
   "nbconvert_exporter": "python",
   "pygments_lexer": "ipython3",
   "version": "3.8.13"
  },
  "orig_nbformat": 4,
  "vscode": {
   "interpreter": {
    "hash": "61eb6a73d09714297e0aec2d959d867e6ecbc9c20629b0c1822899d68cd57698"
   }
  }
 },
 "nbformat": 4,
 "nbformat_minor": 2
}
